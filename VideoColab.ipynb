{
 "cells": [
  {
   "cell_type": "markdown",
   "metadata": {},
   "source": [
    "# Video Collaboration\n",
    "### All images used will be RGB Images in every function"
   ]
  },
  {
   "cell_type": "code",
   "execution_count": 1,
   "metadata": {},
   "outputs": [],
   "source": [
    "# Importing Libraries\n",
    "import cv2\n",
    "import numpy as np\n",
    "import glob\n",
    "import natsort\n",
    "from natsort import natsorted\n",
    "\n",
    "import matplotlib.pyplot as plt\n",
    "import matplotlib.image as mpimg\n",
    "\n",
    "import os\n",
    "from tqdm import tqdm\n",
    "\n",
    "%matplotlib inline"
   ]
  },
  {
   "cell_type": "raw",
   "metadata": {},
   "source": [
    "#!pip install tqdm\n",
    "#!pip install natsort"
   ]
  },
  {
   "cell_type": "markdown",
   "metadata": {},
   "source": [
    "### Video to Image Converter"
   ]
  },
  {
   "cell_type": "code",
   "execution_count": 2,
   "metadata": {},
   "outputs": [],
   "source": [
    "def vid2frame(video):\n",
    "    name = video\n",
    "    name = name[:-4]\n",
    "    save_dir = name + \"_frames\"\n",
    "    print(save_dir)\n",
    "    print(\"Creating a folder if it is not present\\n\")\n",
    "    # Folder creation for frames\n",
    "    CHECK_FOLDER = os.path.isdir(save_dir)\n",
    "\n",
    "    # If folder doesn't exist, then create it.\n",
    "    if not CHECK_FOLDER:\n",
    "        os.makedirs(save_dir)\n",
    "        print(\"Created the folder!\")\n",
    "\n",
    "    # Opens the Video file\n",
    "    cap = cv2.VideoCapture(video)\n",
    "    i = 0\n",
    "    print(\"Converting to Frames....\")\n",
    "    while (cap.isOpened()):\n",
    "        ret, frame = cap.read()\n",
    "        if ret == False:\n",
    "            break\n",
    "        cv2.imwrite(save_dir + \"/\" + str(i) + '.jpg', frame)\n",
    "        i += 1\n",
    "\n",
    "    cap.release()\n",
    "    cv2.destroyAllWindows()\n",
    "    \n",
    "    print(\"Video to frame Conversion Complete.\")\n",
    "    \n",
    "    return save_dir"
   ]
  },
  {
   "cell_type": "code",
   "execution_count": 3,
   "metadata": {},
   "outputs": [
    {
     "name": "stdout",
     "output_type": "stream",
     "text": [
      "index_frames\n",
      "Creating a folder if it is not present\n",
      "\n",
      "Created the folder!\n",
      "Converting to Frames....\n",
      "Video to frame Conversion Complete.\n"
     ]
    },
    {
     "data": {
      "text/plain": [
       "'index_frames'"
      ]
     },
     "execution_count": 3,
     "metadata": {},
     "output_type": "execute_result"
    }
   ],
   "source": [
    "vid2frame(\"index.mp4\")"
   ]
  },
  {
   "cell_type": "markdown",
   "metadata": {},
   "source": [
    "### Frames to Video Converter"
   ]
  },
  {
   "cell_type": "code",
   "execution_count": 3,
   "metadata": {},
   "outputs": [],
   "source": [
    "def frame2vid(edited_frames_dir, fps):\n",
    "    vid_name = edited_frames_dir + \"_\" + str(fps)\n",
    "    \n",
    "    frames = glob.glob(edited_frames_dir + \"/\" + \"*.jpg\")\n",
    "    frames = natsorted(frames)\n",
    "    img_array = []\n",
    "    print(\"Joining frames...\")\n",
    "    for frame in tqdm(frames):\n",
    "        img = cv2.imread(frame)\n",
    "        height, width, layers = img.shape\n",
    "        size = (width, height)\n",
    "        img_array.append(img)\n",
    "\n",
    "    out = cv2.VideoWriter(edited_frames_dir + \"_fps_\" + str(fps) + \".avi\", cv2.VideoWriter_fourcc(*'DIVX'), fps, size)\n",
    "\n",
    "    print(\"Saving to a video...\")\n",
    "    for i in tqdm(range(len(img_array))):\n",
    "        out.write(img_array[i])\n",
    "    out.release()\n",
    "    print(\"Video Saved\")"
   ]
  },
  {
   "cell_type": "markdown",
   "metadata": {},
   "source": [
    "# Various Image Processing techniques \n",
    "# -> Effects"
   ]
  },
  {
   "cell_type": "code",
   "execution_count": 121,
   "metadata": {},
   "outputs": [],
   "source": [
    "# Canny Edge\n",
    "def Canny(image):\n",
    "    # Defining canny edge detection threshold parameters\n",
    "    low_thresh = 100\n",
    "    high_thresh = 150\n",
    "    edges = cv2.Canny(image, 100, 150)\n",
    "    return edges"
   ]
  },
  {
   "cell_type": "code",
   "execution_count": 122,
   "metadata": {},
   "outputs": [],
   "source": [
    "# Edit this function to create your own pipeline.\n",
    "def colorBinary(img, s_thresh=(170, 255), sx_thresh=(20, 100)):\n",
    "    img = np.copy(img)\n",
    "    # Convert to HLS color space and separate the V channel\n",
    "    hls = cv2.cvtColor(img, cv2.COLOR_RGB2HLS)\n",
    "    l_channel = hls[:,:,1]\n",
    "    s_channel = hls[:,:,2]\n",
    "    # Sobel x\n",
    "    sobelx = cv2.Sobel(l_channel, cv2.CV_64F, 1, 0) # Take the derivative in x\n",
    "    abs_sobelx = np.absolute(sobelx) # Absolute x derivative to accentuate lines away from horizontal\n",
    "    scaled_sobel = np.uint8(255*abs_sobelx/np.max(abs_sobelx))\n",
    "    \n",
    "    # Threshold x gradient\n",
    "    sxbinary = np.zeros_like(scaled_sobel)\n",
    "    sxbinary[(scaled_sobel >= sx_thresh[0]) & (scaled_sobel <= sx_thresh[1])] = 1\n",
    "    \n",
    "    # Threshold color channel\n",
    "    s_binary = np.zeros_like(s_channel)\n",
    "    s_binary[(s_channel >= s_thresh[0]) & (s_channel <= s_thresh[1])] = 1\n",
    "    # Stack each channel\n",
    "    color_binary = np.dstack(( np.zeros_like(sxbinary), sxbinary, s_binary)) * 255\n",
    "    return color_binary"
   ]
  },
  {
   "cell_type": "code",
   "execution_count": 123,
   "metadata": {},
   "outputs": [],
   "source": [
    "def binaryImage(image):\n",
    "    thresh = (1, 255)\n",
    "    gray = cv2.cvtColor(image, cv2.COLOR_RGB2GRAY)\n",
    "    binary = np.zeros_like(gray)\n",
    "    binary[(gray > thresh[0]) & (gray <= thresh[1])] = 1\n",
    "    return binary"
   ]
  },
  {
   "cell_type": "code",
   "execution_count": 124,
   "metadata": {},
   "outputs": [],
   "source": [
    "def rgb2gray(image):\n",
    "    return cv2.cvtColor(image, cv2.COLOR_RGB2GRAY)"
   ]
  },
  {
   "cell_type": "code",
   "execution_count": 125,
   "metadata": {},
   "outputs": [],
   "source": [
    "# RGB to indivisual channels: R, G, B\n",
    "def rgb2R(image):\n",
    "    R = image[:,:,0]\n",
    "    return R\n",
    "    \n",
    "def rgb2G(image):\n",
    "    G = image[:,:,1]\n",
    "    return G\n",
    "    \n",
    "def rgb2B(image):\n",
    "    B = image[:,:,2]\n",
    "    return B"
   ]
  },
  {
   "cell_type": "code",
   "execution_count": 126,
   "metadata": {},
   "outputs": [],
   "source": [
    "# HLS to indivisual channels H, L, S\n",
    "def rgb2H(image):\n",
    "    image = cv2.cvtColor(image, cv2.COLOR_RGB2HLS)\n",
    "    H = image[:,:,0]\n",
    "    return H\n",
    "    \n",
    "def rgb2L(image):\n",
    "    image = cv2.cvtColor(image, cv2.COLOR_RGB2HLS)\n",
    "    L = image[:,:,1]\n",
    "    return L\n",
    "    \n",
    "def rgb2S(image):\n",
    "    image = cv2.cvtColor(image, cv2.COLOR_RGB2HLS)\n",
    "    S = image[:,:,2]\n",
    "    return S"
   ]
  },
  {
   "cell_type": "code",
   "execution_count": 127,
   "metadata": {},
   "outputs": [],
   "source": [
    "def sBinary(image):\n",
    "    S = rgb2S(image)\n",
    "    thresh = (90, 255)\n",
    "    S_binary = np.zeros_like(S)\n",
    "    S_binary[(S > thresh[0]) & (S <= thresh[1])] = 1\n",
    "    return S_binary\n",
    "\n",
    "def hBinary(image):\n",
    "    H = rgb2H(image)\n",
    "    thresh = (15, 100)\n",
    "    H_binary = np.zeros_like(H)\n",
    "    H_binary[(H > thresh[0]) & (H <= thresh[1])] = 1\n",
    "    return H_binary\n",
    "\n",
    "def lBinary(image):\n",
    "    L = rgb2L(image)\n",
    "    thresh = (15, 100)\n",
    "    L_binary = np.zeros_like(L)\n",
    "    L_binary[(L > thresh[0]) & (L <= thresh[1])] = 1\n",
    "    return L_binary"
   ]
  },
  {
   "cell_type": "raw",
   "metadata": {},
   "source": [
    "f, (ax1, ax2, ax3, ax4, ax5, ax6, ax7, ax8, ax9, ax10, ax11, ax12) = plt.subplots(12, 1, figsize=(24, 9))\n",
    "f.tight_layout()\n",
    "\n",
    "#ax5.imshow(gray, cmap='gray')\n",
    "\n",
    "ax1.imshow(image)\n",
    "ax1.set_title('Original Image', fontsize=25)\n",
    "\n",
    "ax2.imshow(canny)\n",
    "ax2.set_title('Canny Edge', fontsize=25)\n",
    "\n",
    "ax3.set_title('Color Binary', fontsize=25)\n",
    "ax3.imshow(color_binary)\n",
    "\n",
    "ax4.set_title('Binary Image', fontsize=20)\n",
    "ax4.imshow(binary_image)\n",
    "\n",
    "ax5.set_title('Gray', fontsize=20)\n",
    "ax5.imshow(gray, cmap='gray')\n",
    "\n",
    "ax6.set_title('R', fontsize=20)\n",
    "ax6.imshow(R)\n",
    "\n",
    "ax7.set_title('G', fontsize=20)\n",
    "ax7.imshow(G)\n",
    "\n",
    "ax8.set_title('B', fontsize=20)\n",
    "ax8.imshow(B)\n",
    "\n",
    "ax9.set_title('H', fontsize=20)\n",
    "ax9.imshow(H)\n",
    "\n",
    "ax10.set_title('L', fontsize=20)\n",
    "ax10.imshow(L)\n",
    "\n",
    "ax11.set_title('S', fontsize=20)\n",
    "ax11.imshow(S)\n",
    "\n",
    "ax12.set_title('HBinary', fontsize=20)\n",
    "ax12.imshow(Hb)\n",
    "\n",
    "plt.subplots_adjust(left=0., right=1, top=0.9, bottom=0.)"
   ]
  },
  {
   "cell_type": "markdown",
   "metadata": {},
   "source": [
    "### Converting Images to a video"
   ]
  },
  {
   "cell_type": "code",
   "execution_count": null,
   "metadata": {},
   "outputs": [],
   "source": []
  },
  {
   "cell_type": "markdown",
   "metadata": {},
   "source": [
    "# Editing Pipeline"
   ]
  },
  {
   "cell_type": "code",
   "execution_count": 128,
   "metadata": {},
   "outputs": [],
   "source": [
    "def editing_pipeline(frames_dir):    \n",
    "    frames = glob.glob(frames_dir + \"/\" + \"*.jpg\")\n",
    "    frames = natsorted(frames)\n",
    "    #print(frames)\n",
    "    print(\"Creating a edited frame saving folder if it is not present\\n\")\n",
    "    \n",
    "    edited_frames_dir = frames_dir + \"_edited_frames\"\n",
    "    \n",
    "    # Folder creation for frames\n",
    "    CHECK_FOLDER = os.path.isdir(edited_frames_dir)\n",
    "\n",
    "    # If folder doesn't exist, then create it.\n",
    "    if not CHECK_FOLDER:\n",
    "        os.makedirs(edited_frames_dir)\n",
    "        \n",
    "    fnum = 0\n",
    "    n = len(frames)\n",
    "    e = 9\n",
    "    print(\"Editing...\")\n",
    "    for frame_name in tqdm(frames):\n",
    "        frame = mpimg.imread(frame_name)\n",
    "        if fnum < n / e:\n",
    "            frame = Canny(frame)\n",
    "        \n",
    "        elif fnum < 2 * n / e:\n",
    "            frame = colorBinary(frame)\n",
    "        \n",
    "        elif fnum < 3 * n / e:\n",
    "            frame = rgb2gray(frame)\n",
    "            \n",
    "        elif fnum < 4 * n / e:\n",
    "            frame = rgb2gray(frame)\n",
    "            \n",
    "        elif fnum < 5 * n / e:\n",
    "            frame = rgb2R(frame)\n",
    "        \n",
    "        elif fnum < 6 * n / e:\n",
    "            frame = rgb2G(frame)\n",
    "        \n",
    "        elif fnum < 7 * n / e:\n",
    "            frame = rgb2B(frame)\n",
    "        \n",
    "        elif fnum < 8 * n / e:\n",
    "            frame = rgb2H(frame)\n",
    "        \n",
    "        elif fnum < 9 * n / e:\n",
    "            frame = rgb2L(frame)\n",
    "        \n",
    "        \n",
    "        cv2.imwrite(edited_frames_dir + \"/\" + str(fnum) + \".jpg\", frame)\n",
    "        fnum += 1\n",
    "    \n",
    "    print(\"Editing Complete!!!\")\n",
    "    return edited_frames_dir\n",
    "    "
   ]
  },
  {
   "cell_type": "code",
   "execution_count": null,
   "metadata": {},
   "outputs": [],
   "source": []
  },
  {
   "cell_type": "code",
   "execution_count": 4,
   "metadata": {},
   "outputs": [
    {
     "name": "stdout",
     "output_type": "stream",
     "text": [
      "123_frames\n",
      "Creating a folder if it is not present\n",
      "\n",
      "Created the folder!\n",
      "Converting to Frames....\n",
      "Video to frame Conversion Complete.\n"
     ]
    }
   ],
   "source": [
    "# Load video and convert to frames\n",
    "### Takes Time ###\n",
    "video_name = \"123.mp4\"\n",
    "frames_dir = vid2frame(video_name)"
   ]
  },
  {
   "cell_type": "code",
   "execution_count": 114,
   "metadata": {},
   "outputs": [
    {
     "name": "stderr",
     "output_type": "stream",
     "text": [
      "  0%|                                                                                 | 3/4505 [00:00<03:12, 23.44it/s]"
     ]
    },
    {
     "name": "stdout",
     "output_type": "stream",
     "text": [
      "Creating a edited frame saving folder if it is not present\n",
      "\n",
      "Editing...\n"
     ]
    },
    {
     "name": "stderr",
     "output_type": "stream",
     "text": [
      "100%|██████████████████████████████████████████████████████████████████████████████| 4505/4505 [03:34<00:00, 21.00it/s]"
     ]
    },
    {
     "name": "stdout",
     "output_type": "stream",
     "text": [
      "Editing Complete!!!\n"
     ]
    },
    {
     "name": "stderr",
     "output_type": "stream",
     "text": [
      "\n"
     ]
    }
   ],
   "source": [
    "edited_frames_dir = editing_pipeline(frames_dir)"
   ]
  },
  {
   "cell_type": "code",
   "execution_count": 5,
   "metadata": {},
   "outputs": [
    {
     "name": "stderr",
     "output_type": "stream",
     "text": [
      "  4%|██▊                                                                             | 17/480 [00:00<00:02, 163.85it/s]"
     ]
    },
    {
     "name": "stdout",
     "output_type": "stream",
     "text": [
      "Joining frames...\n"
     ]
    },
    {
     "name": "stderr",
     "output_type": "stream",
     "text": [
      "100%|███████████████████████████████████████████████████████████████████████████████| 480/480 [00:02<00:00, 234.70it/s]\n",
      " 19%|███████████████▎                                                                | 92/480 [00:00<00:00, 436.65it/s]"
     ]
    },
    {
     "name": "stdout",
     "output_type": "stream",
     "text": [
      "Saving to a video...\n"
     ]
    },
    {
     "name": "stderr",
     "output_type": "stream",
     "text": [
      "100%|███████████████████████████████████████████████████████████████████████████████| 480/480 [00:01<00:00, 471.90it/s]"
     ]
    },
    {
     "name": "stdout",
     "output_type": "stream",
     "text": [
      "Video Saved\n"
     ]
    },
    {
     "name": "stderr",
     "output_type": "stream",
     "text": [
      "\n"
     ]
    }
   ],
   "source": [
    "fps = 2\n",
    "#frame2vid(edited_frames_dir, fps)\n",
    "\n",
    "frame2vid(frames_dir, fps)"
   ]
  },
  {
   "cell_type": "code",
   "execution_count": null,
   "metadata": {},
   "outputs": [],
   "source": []
  },
  {
   "cell_type": "code",
   "execution_count": null,
   "metadata": {},
   "outputs": [],
   "source": []
  }
 ],
 "metadata": {
  "kernelspec": {
   "display_name": "Python 3",
   "language": "python",
   "name": "python3"
  },
  "language_info": {
   "codemirror_mode": {
    "name": "ipython",
    "version": 3
   },
   "file_extension": ".py",
   "mimetype": "text/x-python",
   "name": "python",
   "nbconvert_exporter": "python",
   "pygments_lexer": "ipython3",
   "version": "3.8.3"
  }
 },
 "nbformat": 4,
 "nbformat_minor": 4
}
